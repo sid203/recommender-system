{
 "cells": [
  {
   "cell_type": "code",
   "execution_count": 1,
   "id": "99deb51e",
   "metadata": {},
   "outputs": [],
   "source": [
    "import os \n",
    "import pandas as pd \n",
    "import numpy as np \n",
    "import networkx as nx \n",
    "from itertools import permutations\n",
    "from math import factorial\n",
    "from sklearn.model_selection import train_test_split\n",
    "from functools import reduce\n",
    "\n",
    "\n",
    "\n",
    "ROOT = os.getenv('ROOT_FOLDER')\n",
    "\n",
    "\n",
    "item_item_graph = nx.read_gpickle(os.path.join(ROOT, 'app/resources/item_item_graph.p'))\n",
    "user_item_graph = nx.read_gpickle(os.path.join(ROOT, 'app/resources/user_item_graph.p'))\n",
    "user_item_graph_test = nx.read_gpickle(os.path.join(ROOT, 'app/resources/user_item_graph_test.p'))\n",
    "movies = pd.read_csv(os.path.join(ROOT, 'app/resources/movie.csv'))"
   ]
  },
  {
   "cell_type": "code",
   "execution_count": 2,
   "id": "4c70b108",
   "metadata": {},
   "outputs": [],
   "source": [
    "\n",
    "\n",
    "def preference_vector(user, user_item_graph):\n",
    "    \"we have no weights in user_item graphs because we assume model is ratings agnostic\"\n",
    "    \n",
    "    nitems = user_item_graph.degree(user)\n",
    "    \n",
    "    return {item:1/nitems for item in user_item_graph.neighbors(user)}\n",
    "\n",
    "\n",
    "\n",
    "def get_page_rank_scores(users, item_item_graph, user_item_graph):\n",
    "    \n",
    "    scores = {user:\n",
    "              {movie:score for movie,score in nx.pagerank(item_item_graph, \n",
    "                                      personalization=preference_vector(user, user_item_graph)).items()\n",
    "              if movie not in list(user_item_graph.neighbors(user))}\n",
    "              \n",
    "          for user in users}\n",
    "    return scores\n",
    "\n",
    "\n",
    "def top_recommendations(results, k, mapping_file):\n",
    "    userid = list(results)[0]\n",
    "    top_movies = sorted(results[userid].items(), key=lambda x:x[1], reverse=True)[:k]\n",
    "    \n",
    "    title_mapping = dict(zip(mapping_file.movieId, mapping_file.title))\n",
    "    genre_mapping = dict(zip(mapping_file.movieId, mapping_file.genres))\n",
    "    \n",
    "    \n",
    "    for movieid,score in top_movies:\n",
    "        print(f\"movieid:{int(movieid)} movie title:{title_mapping.get(int(movieid), '')}\"\\\n",
    "              f\" movie genre:{genre_mapping.get(int(movieid))} score:{round(score, 6)}\")\n",
    "    \n"
   ]
  },
  {
   "cell_type": "markdown",
   "id": "9555ff38",
   "metadata": {},
   "source": [
    "### Get a sample user id"
   ]
  },
  {
   "cell_type": "code",
   "execution_count": 3,
   "id": "32dc45bc",
   "metadata": {},
   "outputs": [],
   "source": [
    "nn = [node for node,bipartite in user_item_graph.nodes(data=\"bipartite\") if bipartite==0]\n"
   ]
  },
  {
   "cell_type": "markdown",
   "id": "0b01a82e",
   "metadata": {},
   "source": [
    "### Inference for one user id"
   ]
  },
  {
   "cell_type": "code",
   "execution_count": 4,
   "id": "9b7a5b7c",
   "metadata": {},
   "outputs": [
    {
     "data": {
      "text/plain": [
       "[55420, 7051, 40499, 91897, 136751, 54494, 127235, 66667, 24006, 134898]"
      ]
     },
     "execution_count": 4,
     "metadata": {},
     "output_type": "execute_result"
    }
   ],
   "source": [
    "nn[:10]"
   ]
  },
  {
   "cell_type": "code",
   "execution_count": 7,
   "id": "d7ff867f",
   "metadata": {},
   "outputs": [
    {
     "name": "stdout",
     "output_type": "stream",
     "text": [
      "movieid:50158 movie title:Stomp the Yard (2007) movie genre:Drama|Musical score:0.001804\n",
      "movieid:61210 movie title:Mutant Chronicles (2008) movie genre:Action|Adventure|Sci-Fi score:0.001752\n",
      "movieid:844 movie title:Story of Xinghua, The (Xinghua san yue tian) (1994) movie genre:Drama score:0.001738\n",
      "movieid:61991 movie title:Miracle at St. Anna (2008) movie genre:Drama|Mystery|War score:0.001728\n",
      "movieid:33558 movie title:Snow Walker, The (2003) movie genre:Adventure|Drama score:0.001722\n",
      "CPU times: user 1.19 s, sys: 42.1 ms, total: 1.23 s\n",
      "Wall time: 1.23 s\n"
     ]
    }
   ],
   "source": [
    "%%time\n",
    "r = get_page_rank_scores(nn[:1], item_item_graph, user_item_graph)\n",
    "top_recommendations(r, 5, movies)\n"
   ]
  },
  {
   "cell_type": "code",
   "execution_count": null,
   "id": "bb156ec6",
   "metadata": {},
   "outputs": [],
   "source": []
  },
  {
   "cell_type": "code",
   "execution_count": null,
   "id": "5b2d0c00",
   "metadata": {},
   "outputs": [],
   "source": []
  }
 ],
 "metadata": {
  "kernelspec": {
   "display_name": "Python 3 (ipykernel)",
   "language": "python",
   "name": "python3"
  },
  "language_info": {
   "codemirror_mode": {
    "name": "ipython",
    "version": 3
   },
   "file_extension": ".py",
   "mimetype": "text/x-python",
   "name": "python",
   "nbconvert_exporter": "python",
   "pygments_lexer": "ipython3",
   "version": "3.8.0"
  }
 },
 "nbformat": 4,
 "nbformat_minor": 5
}
