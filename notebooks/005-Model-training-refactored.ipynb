{
 "cells": [
  {
   "cell_type": "code",
   "execution_count": 1,
   "id": "fbe3f140",
   "metadata": {},
   "outputs": [],
   "source": [
    "import os \n",
    "import pandas as pd \n",
    "import numpy as np \n",
    "import networkx as nx \n",
    "from itertools import permutations\n",
    "from math import factorial\n",
    "from sklearn.model_selection import train_test_split\n",
    "from functools import reduce\n",
    "\n",
    "\n",
    "\n",
    "\n",
    "ROOT = os.getenv('ROOT_FOLDER')\n",
    "df = pd.read_csv(os.path.join(ROOT, \"app/resources/rating.csv\"), usecols=['userId', 'movieId', 'timestamp',\n",
    "                                                                          'rating'])\n",
    "df = df.assign(timestamp=pd.to_datetime(df.timestamp),\n",
    "              movieId=df.movieId.astype(str))"
   ]
  },
  {
   "cell_type": "markdown",
   "id": "4c4a12d5",
   "metadata": {},
   "source": [
    "### Sub sample and train test split"
   ]
  },
  {
   "cell_type": "code",
   "execution_count": 2,
   "id": "fe534bc4",
   "metadata": {},
   "outputs": [],
   "source": [
    "from app.core.processing import SubSampler, Splitter, ColumnsDropper\n",
    "\n",
    "sampler = SubSampler(userCol='userId', itemCol='movieId', size=0.10, frequency_thresh=10, seed=42)\n",
    "splitter = Splitter(test_size=0.2, itemCol='movieId')\n",
    "dropper = ColumnsDropper(cols_to_drop=['rating'])"
   ]
  },
  {
   "cell_type": "code",
   "execution_count": 3,
   "id": "03d1056a",
   "metadata": {},
   "outputs": [],
   "source": [
    "df_sample = sampler.apply(df)\n",
    "train, test = splitter.split(df_sample)\n",
    "X_train = dropper.apply(train)"
   ]
  },
  {
   "cell_type": "code",
   "execution_count": 4,
   "id": "87728fa2",
   "metadata": {},
   "outputs": [
    {
     "data": {
      "text/plain": [
       "((124316, 4), (31080, 4))"
      ]
     },
     "execution_count": 4,
     "metadata": {},
     "output_type": "execute_result"
    }
   ],
   "source": [
    "train.shape, test.shape"
   ]
  },
  {
   "cell_type": "code",
   "execution_count": 5,
   "id": "2f2bb502",
   "metadata": {},
   "outputs": [
    {
     "data": {
      "text/plain": [
       "((4941,), (852,))"
      ]
     },
     "execution_count": 5,
     "metadata": {},
     "output_type": "execute_result"
    }
   ],
   "source": [
    "train.userId.unique().shape,train.movieId.unique().shape"
   ]
  },
  {
   "cell_type": "code",
   "execution_count": 6,
   "id": "ad916628",
   "metadata": {},
   "outputs": [
    {
     "data": {
      "text/plain": [
       "set()"
      ]
     },
     "execution_count": 6,
     "metadata": {},
     "output_type": "execute_result"
    }
   ],
   "source": [
    "set(test.userId).difference(set(train.userId))"
   ]
  },
  {
   "cell_type": "code",
   "execution_count": 7,
   "id": "afd78cf6",
   "metadata": {},
   "outputs": [
    {
     "data": {
      "text/plain": [
       "set()"
      ]
     },
     "execution_count": 7,
     "metadata": {},
     "output_type": "execute_result"
    }
   ],
   "source": [
    "set(test.movieId).difference(set(train.movieId))"
   ]
  },
  {
   "cell_type": "code",
   "execution_count": 8,
   "id": "7aed3ae3",
   "metadata": {},
   "outputs": [
    {
     "data": {
      "text/plain": [
       "31080"
      ]
     },
     "execution_count": 8,
     "metadata": {},
     "output_type": "execute_result"
    }
   ],
   "source": [
    "len(set(zip(test.userId, test.movieId)).difference(set(zip(train.userId, train.movieId))))"
   ]
  },
  {
   "cell_type": "markdown",
   "id": "2ef45597",
   "metadata": {},
   "source": [
    "###  Fit & predict"
   ]
  },
  {
   "cell_type": "code",
   "execution_count": 9,
   "id": "f7cc422e",
   "metadata": {},
   "outputs": [],
   "source": [
    "from app.core.estimator import Estimator"
   ]
  },
  {
   "cell_type": "code",
   "execution_count": 10,
   "id": "be51e9ed",
   "metadata": {},
   "outputs": [
    {
     "name": "stdout",
     "output_type": "stream",
     "text": [
      "CPU times: user 2min 27s, sys: 912 ms, total: 2min 28s\n",
      "Wall time: 2min 33s\n"
     ]
    }
   ],
   "source": [
    "%%time \n",
    "\n",
    "e = Estimator()\n",
    "model = e.fit(X_train)"
   ]
  },
  {
   "cell_type": "code",
   "execution_count": 11,
   "id": "752b191b",
   "metadata": {},
   "outputs": [],
   "source": [
    "sample_test = test[test.userId.isin(test.userId.unique()[:10])]"
   ]
  },
  {
   "cell_type": "code",
   "execution_count": 12,
   "id": "4046a3e8",
   "metadata": {},
   "outputs": [],
   "source": [
    "preds = model.predict(sample_test)"
   ]
  },
  {
   "cell_type": "code",
   "execution_count": 14,
   "id": "91b695c9",
   "metadata": {},
   "outputs": [
    {
     "data": {
      "text/html": [
       "<div>\n",
       "<style scoped>\n",
       "    .dataframe tbody tr th:only-of-type {\n",
       "        vertical-align: middle;\n",
       "    }\n",
       "\n",
       "    .dataframe tbody tr th {\n",
       "        vertical-align: top;\n",
       "    }\n",
       "\n",
       "    .dataframe thead th {\n",
       "        text-align: right;\n",
       "    }\n",
       "</style>\n",
       "<table border=\"1\" class=\"dataframe\">\n",
       "  <thead>\n",
       "    <tr style=\"text-align: right;\">\n",
       "      <th></th>\n",
       "      <th>userId</th>\n",
       "      <th>movieId</th>\n",
       "      <th>score</th>\n",
       "      <th>rating</th>\n",
       "      <th>timestamp</th>\n",
       "    </tr>\n",
       "  </thead>\n",
       "  <tbody>\n",
       "    <tr>\n",
       "      <th>0</th>\n",
       "      <td>95501</td>\n",
       "      <td>608</td>\n",
       "      <td>0.000204</td>\n",
       "      <td>4.0</td>\n",
       "      <td>2007-12-09 03:41:00</td>\n",
       "    </tr>\n",
       "    <tr>\n",
       "      <th>1</th>\n",
       "      <td>95501</td>\n",
       "      <td>1676</td>\n",
       "      <td>0.000347</td>\n",
       "      <td>4.5</td>\n",
       "      <td>2008-03-06 11:08:07</td>\n",
       "    </tr>\n",
       "    <tr>\n",
       "      <th>2</th>\n",
       "      <td>95501</td>\n",
       "      <td>904</td>\n",
       "      <td>0.000330</td>\n",
       "      <td>3.5</td>\n",
       "      <td>2007-12-09 02:46:13</td>\n",
       "    </tr>\n",
       "    <tr>\n",
       "      <th>3</th>\n",
       "      <td>95501</td>\n",
       "      <td>1884</td>\n",
       "      <td>0.000526</td>\n",
       "      <td>2.5</td>\n",
       "      <td>2008-07-27 12:48:02</td>\n",
       "    </tr>\n",
       "    <tr>\n",
       "      <th>4</th>\n",
       "      <td>95501</td>\n",
       "      <td>8910</td>\n",
       "      <td>0.000674</td>\n",
       "      <td>3.0</td>\n",
       "      <td>2007-12-09 03:00:13</td>\n",
       "    </tr>\n",
       "  </tbody>\n",
       "</table>\n",
       "</div>"
      ],
      "text/plain": [
       "   userId movieId     score  rating           timestamp\n",
       "0   95501     608  0.000204     4.0 2007-12-09 03:41:00\n",
       "1   95501    1676  0.000347     4.5 2008-03-06 11:08:07\n",
       "2   95501     904  0.000330     3.5 2007-12-09 02:46:13\n",
       "3   95501    1884  0.000526     2.5 2008-07-27 12:48:02\n",
       "4   95501    8910  0.000674     3.0 2007-12-09 03:00:13"
      ]
     },
     "execution_count": 14,
     "metadata": {},
     "output_type": "execute_result"
    }
   ],
   "source": [
    "preds.head()"
   ]
  },
  {
   "cell_type": "markdown",
   "id": "e86b9289",
   "metadata": {},
   "source": [
    "### Evaluate"
   ]
  },
  {
   "cell_type": "code",
   "execution_count": 15,
   "id": "d9d59a3d",
   "metadata": {},
   "outputs": [],
   "source": [
    "from app.core.evaluation import Ndcg"
   ]
  },
  {
   "cell_type": "code",
   "execution_count": 16,
   "id": "a3779fcf",
   "metadata": {},
   "outputs": [],
   "source": [
    "ndcg = Ndcg(k=10, user_col='userId', preds_col='score', relevance_col='rating')"
   ]
  },
  {
   "cell_type": "code",
   "execution_count": 17,
   "id": "61ee3cf5",
   "metadata": {},
   "outputs": [
    {
     "data": {
      "text/plain": [
       "{19621: 0.8231952626070935,\n",
       " 22495: 0.9555001783072599,\n",
       " 22697: 0.9462257242770947,\n",
       " 31244: 0.6844802528659866,\n",
       " 36460: 0.942467349171208,\n",
       " 87678: 0.9239109680111085,\n",
       " 95501: 0.8006641055145592,\n",
       " 95581: 0.9492147449622255,\n",
       " 112309: 0.8829458575408894,\n",
       " 127167: 0.6888651962806803}"
      ]
     },
     "execution_count": 17,
     "metadata": {},
     "output_type": "execute_result"
    }
   ],
   "source": [
    "ndcg.calculate_metrics(preds)"
   ]
  },
  {
   "cell_type": "code",
   "execution_count": 18,
   "id": "d2bd94c4",
   "metadata": {},
   "outputs": [
    {
     "data": {
      "text/plain": [
       "0.8597469639538107"
      ]
     },
     "execution_count": 18,
     "metadata": {},
     "output_type": "execute_result"
    }
   ],
   "source": [
    "pd.DataFrame.from_dict(ndcg.calculate_metrics(preds), orient='index').mean()[0]"
   ]
  }
 ],
 "metadata": {
  "kernelspec": {
   "display_name": "Python 3 (ipykernel)",
   "language": "python",
   "name": "python3"
  },
  "language_info": {
   "codemirror_mode": {
    "name": "ipython",
    "version": 3
   },
   "file_extension": ".py",
   "mimetype": "text/x-python",
   "name": "python",
   "nbconvert_exporter": "python",
   "pygments_lexer": "ipython3",
   "version": "3.8.0"
  }
 },
 "nbformat": 4,
 "nbformat_minor": 5
}
